{
 "cells": [
  {
   "cell_type": "markdown",
   "metadata": {},
   "source": [
    "# pyEPR Calculating Dielectric Participations"
   ]
  },
  {
   "cell_type": "markdown",
   "metadata": {},
   "source": [
    "Zlatko Minev\n",
    "\n",
    "**Summary:** Following Appendix E of the energy-participation-ratio (EPR) paper, here we demonstrate how to calcualte the dielectric EPR of a chip substrate in a qubit eigen mode. \n",
    "\n",
    "We use the following definitions for the RMS energy stored in a volume $V$,\n",
    "\\begin{align}\n",
    "\\mathcal{E}_{\\mathrm{elec}}&=&\\frac{1}{4}\\mathrm{Re}\\int_{V}\\mathrm{d}v\\vec{E}_{\\text{max}}^{*}\\overleftrightarrow{\\epsilon}\\vec{E}_{\\text{max}}\\;,\\\\\\mathcal{E}_{\\mathrm{mag}}&=&\\frac{1}{4}\\mathrm{Re}\\int_{V}\\mathrm{d}v\\vec{H}_{\\text{max}}^{*}\\overleftrightarrow{\\mu}\\vec{H}_{\\text{max}}\\;,\n",
    "\\end{align}"
   ]
  },
  {
   "cell_type": "markdown",
   "metadata": {},
   "source": [
    "## The simple way  "
   ]
  },
  {
   "cell_type": "code",
   "execution_count": 1,
   "metadata": {},
   "outputs": [],
   "source": [
    "%load_ext autoreload\n",
    "%autoreload 2\n",
    "%config IPCompleter.greedy = True"
   ]
  },
  {
   "cell_type": "code",
   "execution_count": 3,
   "metadata": {},
   "outputs": [
    {
     "name": "stdout",
     "output_type": "stream",
     "text": [
      "\n",
      "\n",
      "\n",
      "\n",
      "Connecting to HFSS ...\n",
      "\tFile path to HFSS project found.\n",
      "\tOpened HFSS-App.\n",
      "\tOpened HFSS desktop.\n",
      "\tOpened link to HFSS user project.\n",
      "\tConnected successfully.\n",
      "\t :)\t :)\t :)\t\n",
      "\n",
      "Design \"My Design - Qubit Example EPR\" info:\n",
      "\t# eigenmodes    1\n",
      "\t# variations    1\n"
     ]
    }
   ],
   "source": [
    "from pyEPR import * \n",
    "\n",
    "project = Project_Info(r\"C:\\path-to-my-dir\",\n",
    "                       'My file name',\n",
    "                       'My design name')\n",
    "\n",
    "project.connect()\n",
    "\n",
    "epr_hfss = pyEPR_HFSS(project)"
   ]
  },
  {
   "cell_type": "markdown",
   "metadata": {},
   "source": [
    "# Calculate participation of the substrate for mode 1 "
   ]
  },
  {
   "cell_type": "markdown",
   "metadata": {},
   "source": [
    "First, select which eigenmode to work on.<br>\n",
    "Here the fundamental mode, mode 0, is the qubit"
   ]
  },
  {
   "cell_type": "code",
   "execution_count": 27,
   "metadata": {},
   "outputs": [
    {
     "name": "stdout",
     "output_type": "stream",
     "text": [
      "Energy in silicon substrate  = 91.8%\n"
     ]
    }
   ],
   "source": [
    "epr_hfss.set_mode(0) \n",
    "\n",
    "# Calculate the EPR p_dielectic\n",
    "p_dielectic, (ℰ_substr, ℰ_total) = \\\n",
    "    epr_hfss.calc_p_electric_volume('substrate_si', 'AllObjects')\n",
    "\n",
    "print(f'Energy in silicon substrate  = {100*p_dielectic:.1f}%')"
   ]
  },
  {
   "cell_type": "markdown",
   "metadata": {},
   "source": [
    "Now, compute the electric energy stored in the vacuum \n",
    "Use the calculated total energy in all objects\n",
    "so that we don't have to recompute it, since we \n",
    "computed it  above"
   ]
  },
  {
   "cell_type": "code",
   "execution_count": 26,
   "metadata": {},
   "outputs": [
    {
     "name": "stdout",
     "output_type": "stream",
     "text": [
      "Energy in vacuum = 8.2%\n",
      "\n",
      "Since there are no other volumes,\n",
      "the two energies should sum to one: 0.9999999999999954\n"
     ]
    }
   ],
   "source": [
    "p_vac, (ℰ_vac, ℰ_total) = epr_hfss.calc_p_electric_volume(\n",
    "    'Region', E_total=ℰ_total) # Here, pass the precomputed E_total=ℰ_total\n",
    "\n",
    "print(f'''Energy in vacuum = {100*p_vac:.1f}%\n",
    "\n",
    "Since there are no other volumes,\n",
    "the two energies should sum to one: {p_dielectic + p_vac}''')"
   ]
  },
  {
   "cell_type": "code",
   "execution_count": 7,
   "metadata": {},
   "outputs": [
    {
     "data": {
      "text/plain": [
       "\u001b[1;31mSignature:\u001b[0m\n",
       " \u001b[0mepr_hfss\u001b[0m\u001b[1;33m.\u001b[0m\u001b[0mcalc_p_electric_volume\u001b[0m\u001b[1;33m(\u001b[0m\u001b[1;33m\n",
       "\u001b[0m    \u001b[1;33m[\u001b[0m\u001b[1;34m'name_dielectric3D'\u001b[0m\u001b[1;33m,\u001b[0m \u001b[1;34m\"relative_to='AllObjects'\"\u001b[0m\u001b[1;33m,\u001b[0m \u001b[1;34m'E_total=None'\u001b[0m\u001b[1;33m]\u001b[0m\u001b[1;33m,\u001b[0m\u001b[1;33m\n",
       "\u001b[0m\u001b[1;33m)\u001b[0m\u001b[1;33m\u001b[0m\u001b[1;33m\u001b[0m\u001b[0m\n",
       "\u001b[1;31mDocstring:\u001b[0m\n",
       "Calculate the dielectric energy-participatio ratio \n",
       "of a 3D object (one that has volume) relative to the dielectric energy of\n",
       "a list of object objects.\n",
       "\n",
       "This is as a function relative to another object or all objects.\n",
       "\n",
       "When all objects are specified, this does not include any energy \n",
       "that might be stored in any lumped elements or lumped capacitors. \n",
       "\n",
       "Returns:\n",
       "---------\n",
       "    ℰ_object/ℰ_total, (ℰ_object, _total)\n",
       "\u001b[1;31mFile:\u001b[0m      c:\\zkm-code\\pyepr\\pyepr\\core.py\n",
       "\u001b[1;31mType:\u001b[0m      method\n"
      ]
     },
     "metadata": {},
     "output_type": "display_data"
    }
   ],
   "source": [
    "? epr_hfss.calc_p_electric_volume"
   ]
  },
  {
   "cell_type": "markdown",
   "metadata": {},
   "source": [
    "## Calculating the energies directly\n",
    "\n",
    "Using lower level functions "
   ]
  },
  {
   "cell_type": "code",
   "execution_count": 29,
   "metadata": {},
   "outputs": [
    {
     "name": "stdout",
     "output_type": "stream",
     "text": [
      "Energy in substrate = 91.8%\n"
     ]
    }
   ],
   "source": [
    "ℰ_total  = epr_hfss.calc_energy_electric(volume='AllObjects')\n",
    "ℰ_substr = epr_hfss.calc_energy_electric(volume='Box1')\n",
    "print(f'Energy in substrate = {100*ℰ_substr/ℰ_total:.1f}%')"
   ]
  },
  {
   "cell_type": "code",
   "execution_count": 30,
   "metadata": {},
   "outputs": [
    {
     "data": {
      "text/plain": [
       "\u001b[1;31mSignature:\u001b[0m\n",
       "\u001b[0mepr_hfss\u001b[0m\u001b[1;33m.\u001b[0m\u001b[0mcalc_energy_electric\u001b[0m\u001b[1;33m(\u001b[0m\u001b[1;33m\n",
       "\u001b[0m    \u001b[1;33m[\u001b[0m\u001b[1;34m'variation=None'\u001b[0m\u001b[1;33m,\u001b[0m \u001b[1;34m\"volume='AllObjects'\"\u001b[0m\u001b[1;33m,\u001b[0m \u001b[1;34m'smooth=False'\u001b[0m\u001b[1;33m]\u001b[0m\u001b[1;33m,\u001b[0m\u001b[1;33m\n",
       "\u001b[0m\u001b[1;33m)\u001b[0m\u001b[1;33m\u001b[0m\u001b[1;33m\u001b[0m\u001b[0m\n",
       "\u001b[1;31mDocstring:\u001b[0m\n",
       "Calculates two times the peak electric energy, or 4 times the RMS, :math:`4*\\mathcal{E}_{\\mathrm{elec}}`\n",
       "(since we do not divide by 2 and use the peak phasors).\n",
       "\n",
       ".. math::\n",
       "    \\mathcal{E}_{\\mathrm{elec}}=\\frac{1}{4}\\mathrm{Re}\\int_{V}\\mathrm{d}v\\vec{E}_{\\text{max}}^{*}\\overleftrightarrow{\\epsilon}\\vec{E}_{\\text{max}}\n",
       "\n",
       "\n",
       "volume : string | 'AllObjects'\n",
       "smooth : bool | False \n",
       "    Smooth the electric field or not when performing calculation\n",
       "\n",
       "Example use to calcualte the energy participation of a substrate\n",
       "\n",
       ".. code-block python\n",
       "    ℰ_total  = epr_hfss.calc_energy_electric(volume='AllObjects')\n",
       "    ℰ_substr = epr_hfss.calc_energy_electric(volume='Box1')\n",
       "    print(f'Energy in substrate = {100*ℰ_substr/ℰ_total:.1f}%')\n",
       "\u001b[1;31mFile:\u001b[0m      c:\\zkm-code\\pyepr\\pyepr\\core.py\n",
       "\u001b[1;31mType:\u001b[0m      method\n"
      ]
     },
     "metadata": {},
     "output_type": "display_data"
    }
   ],
   "source": [
    "?epr_hfss.calc_energy_electric"
   ]
  },
  {
   "cell_type": "markdown",
   "metadata": {},
   "source": [
    "# Using the Fields calculator in HFSS directly "
   ]
  },
  {
   "cell_type": "markdown",
   "metadata": {},
   "source": [
    "We will do the same calculation again, but now using the internals of `epr_hfss.calc_energy_electric` to demonstrate how the fields calcualtor object can be used for custom integrals and how the internals work. \n",
    "\n",
    "#### Using the HFSS Fields Calculator\n",
    "The Fields calculator enables you to perform computations using basic field quantities. The calcu­lator will compute derived quantities from the general electric field solution; write field quantities to files, locate maximum and minimum field values, and perform other operations on the field solu­tion. \n",
    "\n",
    "The calculator does not perform the computations until a value is needed or is forced for a result. This makes it more efficient, saving computing resources and time; you can do all the calculations without regard to data storage of all the calculated points of the field. It is generally easier to do all the calculations first, then plot the results.\n",
    "\n",
    "#### Direct calculation of \n",
    "\n",
    "\\begin{align}\n",
    "\\mathcal{E}_{\\mathrm{elec}}&=&\\mathrm{Re}\\int_{V}\\mathrm{d}v\\vec{E}_{\\text{max}}^{*}\\overleftrightarrow{\\epsilon}\\vec{E}_{\\text{max}}\\;.\n",
    "\\end{align}\n",
    "\n"
   ]
  },
  {
   "cell_type": "code",
   "execution_count": 35,
   "metadata": {},
   "outputs": [
    {
     "data": {
      "text/plain": [
       "3.97856215141521"
      ]
     },
     "execution_count": 35,
     "metadata": {},
     "output_type": "execute_result"
    }
   ],
   "source": [
    "from pyEPR.core import *\n",
    "\n",
    "self, volume = epr_hfss, 'AllObjects'\n",
    "\n",
    "calcobject = CalcObject([], self.setup)\n",
    "vecE = calcobject.getQty(\"E\").smooth()\n",
    "A = vecE.times_eps()\n",
    "B = vecE.conj()\n",
    "A = A.dot(B)\n",
    "A = A.real()\n",
    "A = A.integrate_vol(name=volume)\n",
    "\n",
    "E_total = A.evaluate(lv=self.get_lv()) \n",
    "# This command numerically evaluates and displays the\n",
    "# results of calculator operations \n",
    "E_total"
   ]
  },
  {
   "cell_type": "code",
   "execution_count": 34,
   "metadata": {},
   "outputs": [
    {
     "data": {
      "text/plain": [
       "3.65565683193854"
      ]
     },
     "execution_count": 34,
     "metadata": {},
     "output_type": "execute_result"
    }
   ],
   "source": [
    "from pyEPR.core import *\n",
    "\n",
    "self, volume = epr_hfss, 'substrate_si'\n",
    "\n",
    "calcobject = CalcObject([], self.setup)\n",
    "vecE = calcobject.getQty(\"E\").smooth()\n",
    "A = vecE.times_eps()\n",
    "B = vecE.conj()\n",
    "A = A.dot(B)\n",
    "A = A.real()\n",
    "A = A.integrate_vol(name=volume)\n",
    "\n",
    "E_subs = A.evaluate(lv=self.get_lv()) \n",
    "# This command numerically evaluates and displays the\n",
    "# results of calculator operations \n",
    "E_subs"
   ]
  },
  {
   "cell_type": "code",
   "execution_count": 38,
   "metadata": {},
   "outputs": [
    {
     "name": "stdout",
     "output_type": "stream",
     "text": [
      "Energy in substrate: 91.9%\n"
     ]
    }
   ],
   "source": [
    "print(f'Energy in substrate: {100*E_subs/E_total:.1f}%')"
   ]
  },
  {
   "cell_type": "markdown",
   "metadata": {},
   "source": [
    "# Summary  "
   ]
  },
  {
   "cell_type": "markdown",
   "metadata": {},
   "source": [
    "We showed three levels of how to obtain the same result, using either the \n",
    "1. `pyEPR_HFSS.calc_p_electric_volume`\n",
    "2. `pyEPR_HFSS.calc_energy_electric`\n",
    "3. Or the fields calcualtor"
   ]
  }
 ],
 "metadata": {
  "kernelspec": {
   "display_name": "Python 3",
   "language": "python",
   "name": "python3"
  },
  "language_info": {
   "codemirror_mode": {
    "name": "ipython",
    "version": 3
   },
   "file_extension": ".py",
   "mimetype": "text/x-python",
   "name": "python",
   "nbconvert_exporter": "python",
   "pygments_lexer": "ipython3",
   "version": "3.7.1"
  }
 },
 "nbformat": 4,
 "nbformat_minor": 2
}

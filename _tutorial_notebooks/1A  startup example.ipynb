{
 "cells": [
  {
   "cell_type": "code",
   "execution_count": 1,
   "metadata": {},
   "outputs": [],
   "source": [
    "%load_ext autoreload\n",
    "%autoreload 2\n",
    "%config IPCompleter.greedy = True"
   ]
  },
  {
   "cell_type": "markdown",
   "metadata": {},
   "source": [
    "# pyEPR Startup Example\n",
    "##### Single transmon qubit mode analysis  \n",
    "Author: Zlatko Minev"
   ]
  },
  {
   "cell_type": "markdown",
   "metadata": {},
   "source": [
    "## <div style=\"background:#BBFABB;line-height:2em;\">Load pyEPR<div>"
   ]
  },
  {
   "cell_type": "code",
   "execution_count": 2,
   "metadata": {},
   "outputs": [],
   "source": [
    "import pyEPR as epr"
   ]
  },
  {
   "cell_type": "markdown",
   "metadata": {},
   "source": [
    "This loads the `pyEPR` package under the shorthand name `epr`.\n",
    "\n",
    "We can access the main different submodules, like this:\n",
    "  * `epr.calcs`  : calculations tools \n",
    "  * `epr.ansys`  : tools for controlling ansys hfss, q3d, etc.\n",
    "  * `epr.toolbox`: useful and handly toolbox for plotting, pythonic manipulations, etc. \n",
    "  * `epr.core`  : The core module of analysis functions. This does not need ot be accessed by the user typically. It essentually provides the main two classes: Project_Info, pyEPR_HFSSAnalysis, and pyEPR_Analysis -- which represent the different stages of the simulation. Let us examine these next. \n",
    "  \n",
    "EPR also has some handy functions, which we will explore:"
   ]
  },
  {
   "cell_type": "code",
   "execution_count": 3,
   "metadata": {},
   "outputs": [
    {
     "name": "stdout",
     "output_type": "stream",
     "text": [
      "Parsing unis:  1um = 1e-06 meters\n",
      "For   L_J = 11 nH, the Josephson junction energy is\n",
      "      E_J = 14.9 GHz\n"
     ]
    }
   ],
   "source": [
    "print('Parsing unis:  1um =', \n",
    "      epr.parse_entry('1um', 'meters'), 'meters')\n",
    "\n",
    "print(f\"\"\"For   L_J = 11 nH, the Josephson junction energy is\n",
    "      E_J = {epr.calcs.Convert.Ej_from_Lj(11, 'nH', 'GHz'):.1f} GHz\"\"\")"
   ]
  },
  {
   "cell_type": "markdown",
   "metadata": {},
   "source": [
    "#### Load Ansys HFSS tutorial file  "
   ]
  },
  {
   "cell_type": "markdown",
   "metadata": {},
   "source": [
    "Let us first determine where the example file is stored.\n",
    "For tutorial, let us get the path to the tutorial folder."
   ]
  },
  {
   "cell_type": "code",
   "execution_count": 4,
   "metadata": {},
   "outputs": [
    {
     "name": "stdout",
     "output_type": "stream",
     "text": [
      "We will the example project located in\n",
      " C:\\zkm-code\\pyEPR\\_example_files\n"
     ]
    }
   ],
   "source": [
    "# Load Path temporarily just to find where the tutorial folder is\n",
    "# return path_to_project\n",
    "from pathlib import Path\n",
    "path_to_project = Path(epr.__file__).parent.parent / '_example_files'\n",
    "print(f'We will the example project located in\\n {path_to_project}')"
   ]
  },
  {
   "cell_type": "markdown",
   "metadata": {},
   "source": [
    "## <div style=\"background:#BBFABB;line-height:2em;\">Connect to Ansys HFSS<div>"
   ]
  },
  {
   "cell_type": "markdown",
   "metadata": {},
   "source": [
    "Now, we will open Ansys Desktop and connect to a specific project.\n",
    "\n",
    "You can use the following creation keyword arguments to specify which design to look at \n",
    "\n",
    " * `project_path`: \n",
    "    Directory path to the hfss project file. Should be the directory, not the file.\n",
    "    default = None: Assumes the project is open, and thus gets the project based on `project_name`\n",
    " * `project_name`:\n",
    "    Name of the project within the project_path. \"None\" will get the current active one.\n",
    " * `design_name` :\n",
    "    Name of the design within the project. \"None\" will get the current active one.\n",
    " * `setup_name`  :\n",
    "    Name of the setup within the design. \"None\" will get the current active one.\n",
    "\n",
    "Use `?epr.Project_Info` to see all the arguments"
   ]
  },
  {
   "cell_type": "code",
   "execution_count": 6,
   "metadata": {},
   "outputs": [
    {
     "name": "stderr",
     "output_type": "stream",
     "text": [
      "INFO 11:45PM [connect]: Connecting to Ansys Desktop API...\n",
      "INFO 11:45PM [load_ansys_project]: \tFile path to HFSS project found.\n",
      "INFO 11:45PM [load_ansys_project]: \tOpened Ansys App\n",
      "INFO 11:45PM [load_ansys_project]: \tOpened Ansys Desktop v2016.0.0\n",
      "INFO 11:45PM [load_ansys_project]: \tOpened Ansys Project\n",
      "\tFolder:    C:/zkm-code/pyEPR/_example_files/\n",
      "\tProject:   pyEPR_tutorial1\n",
      "INFO 11:45PM [connect]: \tOpened active design\n",
      "\tDesign:    1. single_transmon [Solution type: Eigenmode]\n",
      "INFO 11:45PM [get_setup]: \tOpened setup `Setup1`  (<class 'pyEPR.ansys.HfssEMSetup'>)\n",
      "INFO 11:45PM [connect]: \tConnection to Ansys established successfully. 😀 \n",
      "\n"
     ]
    }
   ],
   "source": [
    "pinfo = epr.Project_Info(project_path = path_to_project, \n",
    "                         project_name = 'pyEPR_tutorial1',\n",
    "                         design_name  = '1. single_transmon')"
   ]
  },
  {
   "cell_type": "markdown",
   "metadata": {},
   "source": [
    "Let's see what the design type was using the `design` object"
   ]
  },
  {
   "cell_type": "code",
   "execution_count": 7,
   "metadata": {},
   "outputs": [
    {
     "data": {
      "text/plain": [
       "'Eigenmode'"
      ]
     },
     "execution_count": 7,
     "metadata": {},
     "output_type": "execute_result"
    }
   ],
   "source": [
    "pinfo.design.solution_type"
   ]
  },
  {
   "cell_type": "markdown",
   "metadata": {},
   "source": [
    "Let us see what all the object in the design are. `pinfo` contains a function to retrieve these for convenience."
   ]
  },
  {
   "cell_type": "code",
   "execution_count": 19,
   "metadata": {},
   "outputs": [
    {
     "data": {
      "text/plain": [
       "['cavity_enclosure',\n",
       " 'substrate',\n",
       " 'rect_jj1',\n",
       " 'pad_lower',\n",
       " 'pad_upper',\n",
       " 'line_jj1']"
      ]
     },
     "execution_count": 19,
     "metadata": {},
     "output_type": "execute_result"
    }
   ],
   "source": [
    "pinfo.get_all_object_names()"
   ]
  },
  {
   "cell_type": "markdown",
   "metadata": {},
   "source": [
    "Let's see what variables there are in the design. "
   ]
  },
  {
   "cell_type": "code",
   "execution_count": 20,
   "metadata": {},
   "outputs": [
    {
     "data": {
      "text/plain": [
       "['width',\n",
       " 'height',\n",
       " 'length',\n",
       " 'c_w',\n",
       " 'c_h',\n",
       " 'c_l',\n",
       " 'pad_gap',\n",
       " 'jj_w',\n",
       " 'pad_w',\n",
       " 'pad_h',\n",
       " 'Lj_1']"
      ]
     },
     "execution_count": 20,
     "metadata": {},
     "output_type": "execute_result"
    }
   ],
   "source": [
    "pinfo.get_all_variables_names()"
   ]
  },
  {
   "cell_type": "markdown",
   "metadata": {},
   "source": [
    "We can also get the names of the setups"
   ]
  },
  {
   "cell_type": "code",
   "execution_count": 33,
   "metadata": {},
   "outputs": [
    {
     "data": {
      "text/plain": [
       "('Setup1',)"
      ]
     },
     "execution_count": 33,
     "metadata": {},
     "output_type": "execute_result"
    }
   ],
   "source": [
    "pinfo.design.get_setup_names()"
   ]
  },
  {
   "cell_type": "markdown",
   "metadata": {},
   "source": [
    "We can also get information such as mesh statistic and convergence (if you have already solved the model)"
   ]
  },
  {
   "cell_type": "code",
   "execution_count": 47,
   "metadata": {},
   "outputs": [
    {
     "data": {
      "text/html": [
       "<div>\n",
       "<style scoped>\n",
       "    .dataframe tbody tr th:only-of-type {\n",
       "        vertical-align: middle;\n",
       "    }\n",
       "\n",
       "    .dataframe tbody tr th {\n",
       "        vertical-align: top;\n",
       "    }\n",
       "\n",
       "    .dataframe thead th {\n",
       "        text-align: right;\n",
       "    }\n",
       "</style>\n",
       "<table border=\"1\" class=\"dataframe\">\n",
       "  <thead>\n",
       "    <tr style=\"text-align: right;\">\n",
       "      <th></th>\n",
       "      <th>Unnamed: 0</th>\n",
       "      <th>Num Tets</th>\n",
       "      <th>Min edge length</th>\n",
       "      <th>Max edge length</th>\n",
       "      <th>RMS edge length</th>\n",
       "      <th>Min tet vol</th>\n",
       "      <th>Max tet vol</th>\n",
       "      <th>Mean tet vol</th>\n",
       "      <th>Std Devn (vol)</th>\n",
       "    </tr>\n",
       "  </thead>\n",
       "  <tbody>\n",
       "    <tr>\n",
       "      <th>0</th>\n",
       "      <td>cavity_enclosure</td>\n",
       "      <td>46123</td>\n",
       "      <td>0.011511</td>\n",
       "      <td>3.371350</td>\n",
       "      <td>1.135660</td>\n",
       "      <td>7.891900e-08</td>\n",
       "      <td>1.298640</td>\n",
       "      <td>0.082983</td>\n",
       "      <td>0.096927</td>\n",
       "    </tr>\n",
       "    <tr>\n",
       "      <th>1</th>\n",
       "      <td>substrate</td>\n",
       "      <td>5750</td>\n",
       "      <td>0.010606</td>\n",
       "      <td>0.726156</td>\n",
       "      <td>0.290914</td>\n",
       "      <td>3.796650e-08</td>\n",
       "      <td>0.011015</td>\n",
       "      <td>0.001412</td>\n",
       "      <td>0.001581</td>\n",
       "    </tr>\n",
       "  </tbody>\n",
       "</table>\n",
       "</div>"
      ],
      "text/plain": [
       "          Unnamed: 0  Num Tets    Min edge length    Max edge length    \\\n",
       "0  cavity_enclosure        46123           0.011511           3.371350   \n",
       "1         substrate         5750           0.010606           0.726156   \n",
       "\n",
       "   RMS edge length    Min tet vol    Max tet vol    Mean tet vol    \\\n",
       "0           1.135660   7.891900e-08       1.298640        0.082983   \n",
       "1           0.290914   3.796650e-08       0.011015        0.001412   \n",
       "\n",
       "   Std Devn (vol)    \n",
       "0          0.096927  \n",
       "1          0.001581  "
      ]
     },
     "execution_count": 47,
     "metadata": {},
     "output_type": "execute_result"
    }
   ],
   "source": [
    "pinfo.setup.get_mesh_stats()"
   ]
  },
  {
   "cell_type": "markdown",
   "metadata": {},
   "source": [
    "We can also see how many modes we solved for"
   ]
  },
  {
   "cell_type": "code",
   "execution_count": 51,
   "metadata": {},
   "outputs": [
    {
     "data": {
      "text/plain": [
       "'2'"
      ]
     },
     "execution_count": 51,
     "metadata": {},
     "output_type": "execute_result"
    }
   ],
   "source": [
    "pinfo.setup.n_modes"
   ]
  },
  {
   "cell_type": "markdown",
   "metadata": {},
   "source": [
    "##  <div style=\"background:#BBFABB;line-height:2em;\"> Josephson tunnel junctions (non-linear elemetns) </div>\n",
    "\n",
    "To analysze the quantum part of the model, let us specify the junctions in the model. \n",
    "\n",
    "The junciton is defined as described in the paper and on the landing page of pyEPR. There is a rectangle sheet inductance and a polyline that defines the current and voltage on the sheet.  \n",
    "\n",
    "Let us call the single junction `j1`. A junction has the following properties:\n",
    "\n",
    "  1. **Lj_variable** : Name of HFSS variable that specifies junction inductance Lj defined on the boundary condition in HFSS\n",
    "  2. **rect**        : Name of HFSS rectangle on which lumped boundary condition is specified.\n",
    "  3. **line**        : Name of HFSS polyline which spans the length of the recntalge. Used to define the voltage across the junction. \n",
    "  4. **length**      : Length in HFSS of the junction rectangle and line (specified in meters). You can use epr.parse_units('100um')"
   ]
  },
  {
   "cell_type": "code",
   "execution_count": 8,
   "metadata": {},
   "outputs": [],
   "source": [
    "pinfo.junctions['j1'] = {'Lj_variable' : 'Lj_1', \n",
    "                         'rect'        : 'rect_jj1', \n",
    "                         'line'        : 'line_jj1', \n",
    "                         'length'      : epr.parse_units('100um')}\n",
    "\n",
    "\n",
    "# Check that valid names of variables and objects have been supplied.\n",
    "# An error is raised with a message if something is wrong.\n",
    "pinfo.validate_junction_info()  "
   ]
  },
  {
   "cell_type": "markdown",
   "metadata": {},
   "source": [
    "## <div style=\"background:#BBFABB;line-height:2em;\">Run analysis on an eigenmode solution  <div>"
   ]
  },
  {
   "cell_type": "markdown",
   "metadata": {},
   "source": [
    "Assumeing we have field solutions saved for the HFSS *eigenmode* design, we can now create the analysis object from the \n",
    "calss `pyEPR_HFSSAnalysis`.\n",
    "\n",
    "**Run analysis:** (Tutorial action) Run the analysis in the design model. \n",
    "This can be done manually, or using pyEPR."
   ]
  },
  {
   "cell_type": "code",
   "execution_count": 57,
   "metadata": {},
   "outputs": [],
   "source": [
    "# Calling this function will run an analysis of the design in the background. \n",
    "# The console will wait for HFSS to complete.\n",
    "pinfo.setup.analyze()"
   ]
  },
  {
   "cell_type": "markdown",
   "metadata": {},
   "source": [
    "**Run optimetrics**"
   ]
  },
  {
   "cell_type": "markdown",
   "metadata": {},
   "source": [
    "The following will get the frequencies and Qs from HFSS. "
   ]
  },
  {
   "cell_type": "code",
   "execution_count": null,
   "metadata": {},
   "outputs": [],
   "source": [
    "# Calling this function will run an analysis on all the optimetrics  the design in the background. \n",
    "# The console will wait for HFSS to complete.\n",
    "# This requires optimetrics license by HFSS. \n",
    "pinfo.design.optimetrics.solve_setup(pinfo.design.optimetrics.get_setup_names()[0])"
   ]
  },
  {
   "cell_type": "markdown",
   "metadata": {},
   "source": [
    "**EPR Analysis object**\n",
    "\n",
    "Let us introduce the core analysis object of `pyEPR`, which will be a class instance of `epr.pyEPR_HFSSAnalysis`. This is how we will run most of our analysis.\n",
    "\n",
    "Let us recover the eigenmode frequencies of the first variation we ran, which is indexed by '0'."
   ]
  },
  {
   "cell_type": "code",
   "execution_count": 16,
   "metadata": {},
   "outputs": [
    {
     "name": "stdout",
     "output_type": "stream",
     "text": [
      "Design \"1. single_transmon\" info:\n",
      "\t# eigenmodes    2\n",
      "\t# variations    1\n"
     ]
    }
   ],
   "source": [
    "# This is the core object for interacting with HFSS\n",
    "# and running analysis within HFSS.\n",
    "eprh = epr.pyEPR_HFSSAnalysis(pinfo) # epr hfss analysis "
   ]
  },
  {
   "cell_type": "code",
   "execution_count": 18,
   "metadata": {},
   "outputs": [
    {
     "name": "stdout",
     "output_type": "stream",
     "text": [
      "0\n"
     ]
    },
    {
     "name": "stderr",
     "output_type": "stream",
     "text": [
      "INFO 11:57PM [hfss_report_f_convergence]: Saved convergences to C:\\data-pyEPR\\pyEPR_tutorial1\\1. single_transmon\\hfss_eig_f_convergence.csv\n"
     ]
    },
    {
     "data": {
      "image/png": "[encoded data removed]",
      "text/plain": [
       "<Figure size 792x216 with 4 Axes>"
      ]
     },
     "metadata": {
      "needs_background": "light"
     },
     "output_type": "display_data"
    }
   ],
   "source": [
    "eprh.hfss_report_full_convergence(_display=False);"
   ]
  },
  {
   "cell_type": "markdown",
   "metadata": {},
   "source": [
    "We can see that the convergence wasn't actually terrific, though we only used 60,000 tets. However, there seems to be a divergence above 15 passes in this example. We will probably need to change our mesh operations to create a monotonic convergence.\n",
    "\n",
    "However, for the purpose of the tutorial, let us press forward. \n",
    "\n",
    "You can use these autogenerated reports to keep track of your simulations.\n",
    "This is still all at the clasical level. Take a look at the other methods, including\n",
    " * `hfss_report_full_convergence`\n",
    " * `hfss_report_f_convergence`\n",
    " * `get_convergence`\n",
    " * `get_mesh_statistics`\n",
    " * `get_freqs_bare_pd`\n",
    " * ...\n",
    " \n",
    "For example, you can get tables of the freqs and Qs using \n",
    "```python\n",
    "Fs, Qs = eprh.get_freqs_bare_pd(variation='0')\n",
    "```"
   ]
  },
  {
   "cell_type": "code",
   "execution_count": 25,
   "metadata": {},
   "outputs": [
    {
     "data": {
      "text/html": [
       "<div>\n",
       "<style scoped>\n",
       "    .dataframe tbody tr th:only-of-type {\n",
       "        vertical-align: middle;\n",
       "    }\n",
       "\n",
       "    .dataframe tbody tr th {\n",
       "        vertical-align: top;\n",
       "    }\n",
       "\n",
       "    .dataframe thead th {\n",
       "        text-align: right;\n",
       "    }\n",
       "</style>\n",
       "<table border=\"1\" class=\"dataframe\">\n",
       "  <thead>\n",
       "    <tr style=\"text-align: right;\">\n",
       "      <th></th>\n",
       "      <th>Freq. (GHz)</th>\n",
       "      <th>Quality Factor</th>\n",
       "    </tr>\n",
       "  </thead>\n",
       "  <tbody>\n",
       "    <tr>\n",
       "      <th>0</th>\n",
       "      <td>5.092784</td>\n",
       "      <td>inf</td>\n",
       "    </tr>\n",
       "    <tr>\n",
       "      <th>1</th>\n",
       "      <td>9.252511</td>\n",
       "      <td>inf</td>\n",
       "    </tr>\n",
       "  </tbody>\n",
       "</table>\n",
       "</div>"
      ],
      "text/plain": [
       "   Freq. (GHz)  Quality Factor\n",
       "0     5.092784             inf\n",
       "1     9.252511             inf"
      ]
     },
     "execution_count": 25,
     "metadata": {},
     "output_type": "execute_result"
    }
   ],
   "source": [
    "import pandas as pd\n",
    "Fs, Qs = eprh.get_freqs_bare_pd(variation='0')\n",
    "pd.DataFrame({'Freq. (GHz)':Fs, 'Quality Factor':Qs})"
   ]
  },
  {
   "cell_type": "markdown",
   "metadata": {},
   "source": [
    "The Q is infinite, since we have not included dissipation yet in this example. The row index is the mode number"
   ]
  },
  {
   "cell_type": "markdown",
   "metadata": {},
   "source": [
    "####  Full analysis"
   ]
  },
  {
   "cell_type": "markdown",
   "metadata": {},
   "source": [
    "Let's now jump ahead to the full analysis."
   ]
  },
  {
   "cell_type": "code",
   "execution_count": 30,
   "metadata": {},
   "outputs": [
    {
     "name": "stdout",
     "output_type": "stream",
     "text": [
      "\n",
      "Variation 0  [1/2]\n",
      "  Mode 0 = 5.09 GHz   [1/2]\n",
      "    Calculating ℰ_magnetic,ℰ_electric\n",
      "       (ℰ_E-ℰ_H)/ℰ_E       ℰ_E       ℰ_H\n",
      "               97.2%      3.893    0.1079\n",
      "\n",
      "    Calculating junction EPR [method=line_voltage]\n",
      "\tjunction        EPR p_0j   sign s_0j\n",
      "\tj1               1.28044     +\n",
      "  Mode 1 = 9.25 GHz   [2/2]\n",
      "    Calculating ℰ_magnetic,ℰ_electric\n",
      "       (ℰ_E-ℰ_H)/ℰ_E       ℰ_E       ℰ_H\n",
      "                0.5%      2.005     1.995\n",
      "\n",
      "    Calculating junction EPR [method=line_voltage]\n",
      "\tjunction        EPR p_1j   sign s_1j\n",
      "\tj1              0.00524682     +\n"
     ]
    },
    {
     "ename": "AttributeError",
     "evalue": "'AttrDict' instance has no attribute 'save_mesh_stats'",
     "output_type": "error",
     "traceback": [
      "\u001b[1;31m---------------------------------------------------------------------------\u001b[0m",
      "\u001b[1;31mAttributeError\u001b[0m                            Traceback (most recent call last)",
      "\u001b[1;32m<ipython-input-30-72ff06271e1d>\u001b[0m in \u001b[0;36m<module>\u001b[1;34m\u001b[0m\n\u001b[0;32m      2\u001b[0m \u001b[1;31m# If you want to only analze a certain variation, you can change the\u001b[0m\u001b[1;33m\u001b[0m\u001b[1;33m\u001b[0m\u001b[1;33m\u001b[0m\u001b[0m\n\u001b[0;32m      3\u001b[0m \u001b[1;31m# default keyword argeumetns variations=None, modes=None\u001b[0m\u001b[1;33m\u001b[0m\u001b[1;33m\u001b[0m\u001b[1;33m\u001b[0m\u001b[0m\n\u001b[1;32m----> 4\u001b[1;33m \u001b[0meprh\u001b[0m\u001b[1;33m.\u001b[0m\u001b[0mdo_EPR_analysis\u001b[0m\u001b[1;33m(\u001b[0m\u001b[1;33m)\u001b[0m\u001b[1;33m;\u001b[0m\u001b[1;33m\u001b[0m\u001b[1;33m\u001b[0m\u001b[0m\n\u001b[0m",
      "\u001b[1;32mC:\\zkm-code\\pyEPR\\pyEPR\\core.py\u001b[0m in \u001b[0;36mdo_EPR_analysis\u001b[1;34m(self, variations, modes)\u001b[0m\n\u001b[0;32m   1126\u001b[0m \u001b[1;33m\u001b[0m\u001b[0m\n\u001b[0;32m   1127\u001b[0m             \u001b[1;31m# Save\u001b[0m\u001b[1;33m\u001b[0m\u001b[1;33m\u001b[0m\u001b[1;33m\u001b[0m\u001b[0m\n\u001b[1;32m-> 1128\u001b[1;33m             \u001b[0mself\u001b[0m\u001b[1;33m.\u001b[0m\u001b[0m_save_variation\u001b[0m\u001b[1;33m(\u001b[0m\u001b[0mhdf\u001b[0m\u001b[1;33m,\u001b[0m \u001b[0mvariation\u001b[0m\u001b[1;33m,\u001b[0m \u001b[0mOm\u001b[0m\u001b[1;33m,\u001b[0m \u001b[0mPm\u001b[0m\u001b[1;33m,\u001b[0m \u001b[0mSm\u001b[0m\u001b[1;33m,\u001b[0m \u001b[0mQm_coupling\u001b[0m\u001b[1;33m,\u001b[0m \u001b[0mSOL\u001b[0m\u001b[1;33m)\u001b[0m\u001b[1;33m\u001b[0m\u001b[1;33m\u001b[0m\u001b[0m\n\u001b[0m\u001b[0;32m   1129\u001b[0m \u001b[1;33m\u001b[0m\u001b[0m\n\u001b[0;32m   1130\u001b[0m         \u001b[0mhdf\u001b[0m\u001b[1;33m.\u001b[0m\u001b[0mclose\u001b[0m\u001b[1;33m(\u001b[0m\u001b[1;33m)\u001b[0m\u001b[1;33m\u001b[0m\u001b[1;33m\u001b[0m\u001b[0m\n",
      "\u001b[1;32mC:\\zkm-code\\pyEPR\\pyEPR\\core.py\u001b[0m in \u001b[0;36m_save_variation\u001b[1;34m(self, hdf, variation, Om, Pm, Sm, Qm_coupling, SOL)\u001b[0m\n\u001b[0;32m   1145\u001b[0m         \u001b[0mhdf\u001b[0m\u001b[1;33m[\u001b[0m\u001b[1;34m'v'\u001b[0m\u001b[1;33m+\u001b[0m\u001b[0mvariation\u001b[0m\u001b[1;33m+\u001b[0m\u001b[1;34m'/pyEPR_sols'\u001b[0m\u001b[1;33m]\u001b[0m \u001b[1;33m=\u001b[0m \u001b[0mpd\u001b[0m\u001b[1;33m.\u001b[0m\u001b[0mDataFrame\u001b[0m\u001b[1;33m(\u001b[0m\u001b[0mSOL\u001b[0m\u001b[1;33m)\u001b[0m\u001b[1;33m.\u001b[0m\u001b[0mtranspose\u001b[0m\u001b[1;33m(\u001b[0m\u001b[1;33m)\u001b[0m\u001b[1;33m\u001b[0m\u001b[1;33m\u001b[0m\u001b[0m\n\u001b[0;32m   1146\u001b[0m \u001b[1;33m\u001b[0m\u001b[0m\n\u001b[1;32m-> 1147\u001b[1;33m         \u001b[1;32mif\u001b[0m \u001b[0mself\u001b[0m\u001b[1;33m.\u001b[0m\u001b[0moptions\u001b[0m\u001b[1;33m.\u001b[0m\u001b[0msave_mesh_stats\u001b[0m\u001b[1;33m:\u001b[0m\u001b[1;33m\u001b[0m\u001b[1;33m\u001b[0m\u001b[0m\n\u001b[0m\u001b[0;32m   1148\u001b[0m             \u001b[0mmesh\u001b[0m \u001b[1;33m=\u001b[0m \u001b[0mself\u001b[0m\u001b[1;33m.\u001b[0m\u001b[0mget_mesh_statistics\u001b[0m\u001b[1;33m(\u001b[0m\u001b[0mvariation\u001b[0m\u001b[1;33m)\u001b[0m\u001b[1;33m\u001b[0m\u001b[1;33m\u001b[0m\u001b[0m\n\u001b[0;32m   1149\u001b[0m             \u001b[1;32mif\u001b[0m \u001b[0mmesh\u001b[0m \u001b[1;32mis\u001b[0m \u001b[1;32mnot\u001b[0m \u001b[1;32mNone\u001b[0m\u001b[1;33m:\u001b[0m\u001b[1;33m\u001b[0m\u001b[1;33m\u001b[0m\u001b[0m\n",
      "\u001b[1;32mD:\\ProgramData\\Anaconda3\\lib\\site-packages\\attrdict\\mixins.py\u001b[0m in \u001b[0;36m__getattr__\u001b[1;34m(self, key)\u001b[0m\n\u001b[0;32m     80\u001b[0m             raise AttributeError(\n\u001b[0;32m     81\u001b[0m                 \"'{cls}' instance has no attribute '{name}'\".format(\n\u001b[1;32m---> 82\u001b[1;33m                     \u001b[0mcls\u001b[0m\u001b[1;33m=\u001b[0m\u001b[0mself\u001b[0m\u001b[1;33m.\u001b[0m\u001b[0m__class__\u001b[0m\u001b[1;33m.\u001b[0m\u001b[0m__name__\u001b[0m\u001b[1;33m,\u001b[0m \u001b[0mname\u001b[0m\u001b[1;33m=\u001b[0m\u001b[0mkey\u001b[0m\u001b[1;33m\u001b[0m\u001b[1;33m\u001b[0m\u001b[0m\n\u001b[0m\u001b[0;32m     83\u001b[0m                 )\n\u001b[0;32m     84\u001b[0m             )\n",
      "\u001b[1;31mAttributeError\u001b[0m: 'AttrDict' instance has no attribute 'save_mesh_stats'"
     ]
    }
   ],
   "source": [
    "# Do EPR analysis for all modes and all variations \n",
    "# If you want to only analze a certain variation, you can change the \n",
    "# default keyword argeumetns variations=None, modes=None\n",
    "eprh.do_EPR_analysis();"
   ]
  },
  {
   "cell_type": "code",
   "execution_count": 31,
   "metadata": {},
   "outputs": [
    {
     "data": {
      "text/plain": [
       "AttrDict({'method_calc_P_mj': 'line_voltage'})"
      ]
     },
     "execution_count": 31,
     "metadata": {},
     "output_type": "execute_result"
    }
   ],
   "source": [
    "eprh.options"
   ]
  },
  {
   "cell_type": "code",
   "execution_count": 33,
   "metadata": {},
   "outputs": [
    {
     "data": {
      "text/plain": [
       "AttrDict({'method_calc_P_mj': 'line_voltage'})"
      ]
     },
     "execution_count": 33,
     "metadata": {},
     "output_type": "execute_result"
    }
   ],
   "source": [
    "epr.config.ansys"
   ]
  },
  {
   "cell_type": "markdown",
   "metadata": {},
   "source": [
    "#### Getting more info"
   ]
  },
  {
   "cell_type": "markdown",
   "metadata": {},
   "source": [
    "Set the logger level"
   ]
  },
  {
   "cell_type": "code",
   "execution_count": 19,
   "metadata": {},
   "outputs": [],
   "source": [
    "import logging\n",
    "epr.logger.setLevel(logging.DEBUG)"
   ]
  },
  {
   "cell_type": "markdown",
   "metadata": {},
   "source": [
    "## <div style=\"background:#BBFABB;line-height:2em;\">Run hamiltonian analysis on the solutions  <div>"
   ]
  },
  {
   "cell_type": "code",
   "execution_count": 8,
   "metadata": {},
   "outputs": [
    {
     "name": "stdout",
     "output_type": "stream",
     "text": [
      "\t Differences in variations:\n",
      "\n",
      "\n",
      "\n",
      " . . . . . . . . . . . . . . . . . . . . . . . . . . . . . . . . . . . . . . . . \n",
      "Variation 0\n",
      "\n",
      "[[0.99605749]] [[-1]] [[5.65632662]] [[12.57396252]]\n",
      "Pm_norm = 0    1.000234\n",
      "dtype: float64 \n",
      "*** P (participation matrix, not normlz.)\n",
      "       p_j1\n",
      "0  0.995824\n",
      "\n",
      "*** S (sign-bit matrix)\n",
      "   s_j1\n",
      "0    -1\n",
      "*** P (participation matrix, normalized.)\n",
      "         1\n",
      "\n",
      "*** Chi matrix O1 PT (MHz)\n",
      "    Diag is anharmonicity, off diag is full cross-Kerr.\n",
      "       316\n",
      "\n",
      "*** Chi matrix ND (MHz) \n",
      "       370\n",
      "\n",
      "*** Frequencies O1 PT (MHz)\n",
      "0    5340.771222\n",
      "dtype: float64\n",
      "\n",
      "*** Frequencies ND (MHz)\n",
      "0    5319.987368\n",
      "dtype: float64\n",
      "\n",
      "*** Q_coupling\n",
      "Empty DataFrame\n",
      "Columns: []\n",
      "Index: [0]\n"
     ]
    },
    {
     "data": {
      "image/png": "[encoded data removed]",
      "text/plain": [
       "<Figure size 720x432 with 4 Axes>"
      ]
     },
     "metadata": {
      "needs_background": "light"
     },
     "output_type": "display_data"
    }
   ],
   "source": [
    "%matplotlib inline\n",
    "\n",
    "# Load saved solutions\n",
    "epr      = pyEPR_Analysis(epr_hfss.data_filename)\n",
    "# This is the core object for working with post \n",
    "# processing data from HFSS\n",
    "\n",
    "# Analyze \n",
    "epr.analyze_all_variations(cos_trunc = 8, fock_trunc = 15)\n",
    "epr.plot_Hresults();"
   ]
  },
  {
   "cell_type": "markdown",
   "metadata": {},
   "source": [
    "# Addendum - Snippets for ease "
   ]
  },
  {
   "cell_type": "markdown",
   "metadata": {},
   "source": [
    "An easy way to define many junctions is the following:"
   ]
  },
  {
   "cell_type": "code",
   "execution_count": null,
   "metadata": {},
   "outputs": [],
   "source": [
    "# Specify multiple junctions in HFSS model\n",
    "n_junctions = 5\n",
    "for i in range(1, 1+n_junctions):\n",
    "    pinfo.junctions[f'j{i}'] = {'Lj_variable' : f'Lj{i}',\n",
    "                                'rect'        : f'JJrect{i}',\n",
    "                                'line'        : f'JJline{i}',\n",
    "                                'length'      : parse_units('30um')}"
   ]
  },
  {
   "cell_type": "markdown",
   "metadata": {},
   "source": [
    "Here we have used python3 f-strings for ease"
   ]
  }
 ],
 "metadata": {
  "kernelspec": {
   "display_name": "Python 3",
   "language": "python",
   "name": "python3"
  },
  "language_info": {
   "codemirror_mode": {
    "name": "ipython",
    "version": 3
   },
   "file_extension": ".py",
   "mimetype": "text/x-python",
   "name": "python",
   "nbconvert_exporter": "python",
   "pygments_lexer": "ipython3",
   "version": "3.7.3"
  }
 },
 "nbformat": 4,
 "nbformat_minor": 4
}

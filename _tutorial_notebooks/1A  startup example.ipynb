{
 "cells": [
  {
   "cell_type": "markdown",
   "metadata": {},
   "source": [
    "# pyEPR Startup Example\n",
    "### Single transmon qubit mode analysis  \n",
    "Author: Zlatko Minev"
   ]
  },
  {
   "cell_type": "markdown",
   "metadata": {},
   "source": [
    "#### Load pyEPR"
   ]
  },
  {
   "cell_type": "markdown",
   "metadata": {},
   "source": [
    "Let us first load pyEPR."
   ]
  },
  {
   "cell_type": "code",
   "execution_count": 2,
   "metadata": {},
   "outputs": [
    {
     "name": "stdout",
     "output_type": "stream",
     "text": [
      "First time load of config\n"
     ]
    }
   ],
   "source": [
    "import pyEPR"
   ]
  },
  {
   "cell_type": "markdown",
   "metadata": {},
   "source": [
    "##### Connect to HFSS"
   ]
  },
  {
   "cell_type": "markdown",
   "metadata": {},
   "source": [
    "1. The first task is to specify where your simulation project is located, what is the filename and what design of the project you wish to work on.\n",
    "2. Define the junction parameters used in the simulation. The junciton is defined as described in the paper and on the landing page of pyEPR. There is a rectangle sheet inductance and a polyline that defines the current and voltage on the sheet. "
   ]
  },
  {
   "cell_type": "code",
   "execution_count": 2,
   "metadata": {},
   "outputs": [
    {
     "name": "stdout",
     "output_type": "stream",
     "text": [
      "\n",
      "\n",
      "\n",
      "\n",
      "Connecting to HFSS ...\n",
      "\tFile path to HFSS project found.\n",
      "\tOpened HFSS-App.\n",
      "\tOpened HFSS desktop.\n",
      "\tOpened link to HFSS user project.\n",
      "\tConnected successfully.\n",
      "\t :)\t :)\t :)\t\n",
      "\n"
     ]
    }
   ],
   "source": [
    "from pyEPR import * \n",
    "logger.setLevel(logging.INFO)\n",
    "\n",
    "# First, connect to HFSS project\n",
    "pinfo = Project_Info(r\"C:\\path-to-my-dir\", # Path to directory containing HFSS project\n",
    "                       'My file name',     # Name of HFSS project, i.e., the filename; can be left none to get current project if HFSS is open\n",
    "                       'My design name'    # Name of HFSS design; Can be left None to get current path \n",
    "                    ).connect() "
   ]
  },
  {
   "cell_type": "markdown",
   "metadata": {},
   "source": [
    "Second, for any Josephson tunnel junction, specify parameters. In this example,\n",
    "we first consider a single junction. We will call it `j1`. It has the\n",
    "following properties:\n",
    "\n",
    "  1. **Lj_variable** : Name of HFSS variable that specifies junction inductance Lj defined on the boundary condition in HFSS\n",
    "  2. **rect**        : Name of HFSS rectangle on which lumped boundary condition is specified.\n",
    "  3. **line**        : Name of HFSS polyline which spans the length of the recntalge. Used to define the voltage across the junction. \n",
    "  4. **length**      : Length in HFSS of the junction rectangle and line (specified in meters)."
   ]
  },
  {
   "cell_type": "code",
   "execution_count": null,
   "metadata": {},
   "outputs": [],
   "source": [
    "pinfo.junctions['j1'] = {'Lj_variable' : 'Lj1', \n",
    "                         'rect'        : 'JJrect1', \n",
    "                         'line'        : 'JJline1', \n",
    "                         'length'      : parse_units('30um')}\n",
    "\n",
    "\n",
    "'Check that valid names of variables and objects have been supplied.'\n",
    "pinfo.validate_junction_info()  "
   ]
  },
  {
   "cell_type": "markdown",
   "metadata": {},
   "source": [
    "### Run analysis on an eigenmode solution  "
   ]
  },
  {
   "cell_type": "markdown",
   "metadata": {},
   "source": [
    "After you solved the HFSS *eigenmode* design. Run the cells below.\n",
    "\n",
    "For example, the following cell will get the frequencies and Qs from HFSS. "
   ]
  },
  {
   "cell_type": "code",
   "execution_count": 5,
   "metadata": {},
   "outputs": [
    {
     "name": "stdout",
     "output_type": "stream",
     "text": [
      "Design \"My Design - Qubit Example EPR\" info:\n",
      "\t# eigenmodes    1\n",
      "\t# variations    1\n",
      "\n",
      "All solved frequencies in HFSS\n",
      "\n"
     ]
    },
    {
     "data": {
      "text/plain": [
       "(OrderedDict([('freq_bare_0', 5656326623.7300005), ('Q_0', 0)]),\n",
       " [5656326623.7300005])"
      ]
     },
     "metadata": {},
     "output_type": "display_data"
    }
   ],
   "source": [
    "epr_hfss = pyEPR_HFSS(pinfo)\n",
    "# This is the core object for interacting with HFSS \n",
    "# and running analysis within HFSS.\n",
    "\n",
    "print(f\"\\nAll solved frequencies in HFSS\\n\")\n",
    "display(epr_hfss.get_freqs_bare('0'))"
   ]
  },
  {
   "cell_type": "markdown",
   "metadata": {},
   "source": [
    "####  Full analysis"
   ]
  },
  {
   "cell_type": "markdown",
   "metadata": {},
   "source": [
    "Let's now jump ahead to the full analysis."
   ]
  },
  {
   "cell_type": "code",
   "execution_count": 6,
   "metadata": {},
   "outputs": [
    {
     "name": "stdout",
     "output_type": "stream",
     "text": [
      "\n",
      "Variation 0  [1/1]\n",
      "  Mode 0 [1/1]\n",
      "    Calculating ℰ_electric, ℰ_magnetic\n",
      "       (ℰ_E-ℰ_H)/ℰ_E       ℰ_E       ℰ_H \n",
      "               99.6%      3.984   0.01571\n",
      "\n",
      "    Calculating junction EPR [method=line_voltage]\n",
      "\tjunction        EPR p_0j   sign s_0j\n",
      "\tj1              0.995824     -\n",
      "\n",
      "ANALYSIS DONE. Data saved to:\n",
      "\n",
      "\n"
     ]
    },
    {
     "data": {
      "text/plain": []
     },
     "execution_count": 6,
     "metadata": {},
     "output_type": "execute_result"
    }
   ],
   "source": [
    "epr_hfss.do_EPR_analysis();"
   ]
  },
  {
   "cell_type": "markdown",
   "metadata": {},
   "source": [
    "### Run hamiltonian analysis on the solutions "
   ]
  },
  {
   "cell_type": "code",
   "execution_count": 8,
   "metadata": {},
   "outputs": [
    {
     "name": "stdout",
     "output_type": "stream",
     "text": [
      "\t Differences in variations:\n",
      "\n",
      "\n",
      "\n",
      " . . . . . . . . . . . . . . . . . . . . . . . . . . . . . . . . . . . . . . . . \n",
      "Variation 0\n",
      "\n",
      "[[0.99605749]] [[-1]] [[5.65632662]] [[12.57396252]]\n",
      "Pm_norm = 0    1.000234\n",
      "dtype: float64 \n",
      "*** P (participation matrix, not normlz.)\n",
      "       p_j1\n",
      "0  0.995824\n",
      "\n",
      "*** S (sign-bit matrix)\n",
      "   s_j1\n",
      "0    -1\n",
      "*** P (participation matrix, normalized.)\n",
      "         1\n",
      "\n",
      "*** Chi matrix O1 PT (MHz)\n",
      "    Diag is anharmonicity, off diag is full cross-Kerr.\n",
      "       316\n",
      "\n",
      "*** Chi matrix ND (MHz) \n",
      "       370\n",
      "\n",
      "*** Frequencies O1 PT (MHz)\n",
      "0    5340.771222\n",
      "dtype: float64\n",
      "\n",
      "*** Frequencies ND (MHz)\n",
      "0    5319.987368\n",
      "dtype: float64\n",
      "\n",
      "*** Q_coupling\n",
      "Empty DataFrame\n",
      "Columns: []\n",
      "Index: [0]\n"
     ]
    },
    {
     "data": {
      "image/png": "[encoded data removed]",
      "text/plain": [
       "<Figure size 720x432 with 4 Axes>"
      ]
     },
     "metadata": {
      "needs_background": "light"
     },
     "output_type": "display_data"
    }
   ],
   "source": [
    "%matplotlib inline\n",
    "\n",
    "# Load saved solutions\n",
    "epr      = pyEPR_Analysis(epr_hfss.data_filename)\n",
    "# This is the core object for working with post \n",
    "# processing data from HFSS\n",
    "\n",
    "# Analyze \n",
    "epr.analyze_all_variations(cos_trunc = 8, fock_trunc = 15)\n",
    "epr.plot_Hresults();"
   ]
  },
  {
   "cell_type": "markdown",
   "metadata": {},
   "source": [
    "# Addendum - Snippets for ease "
   ]
  },
  {
   "cell_type": "markdown",
   "metadata": {},
   "source": [
    "An easy way to define many junctions is the following:"
   ]
  },
  {
   "cell_type": "code",
   "execution_count": null,
   "metadata": {},
   "outputs": [],
   "source": [
    "# Specify multiple junctions in HFSS model\n",
    "n_junctions = 5\n",
    "for i in range(1, 1+n_junctions):\n",
    "    pinfo.junctions[f'j{i}'] = {'Lj_variable' : f'Lj{i}',\n",
    "                                'rect'        : f'JJrect{i}',\n",
    "                                'line'        : f'JJline{i}',\n",
    "                                'length'      : parse_units('30um')}"
   ]
  },
  {
   "cell_type": "markdown",
   "metadata": {},
   "source": [
    "Here we have used python3 f-strings for ease"
   ]
  },
  {
   "cell_type": "code",
   "execution_count": null,
   "metadata": {},
   "outputs": [],
   "source": []
  }
 ],
 "metadata": {
  "kernelspec": {
   "display_name": "Python 3",
   "language": "python",
   "name": "python3"
  },
  "language_info": {
   "codemirror_mode": {
    "name": "ipython",
    "version": 3
   },
   "file_extension": ".py",
   "mimetype": "text/x-python",
   "name": "python",
   "nbconvert_exporter": "python",
   "pygments_lexer": "ipython3",
   "version": "3.7.3"
  }
 },
 "nbformat": 4,
 "nbformat_minor": 4
}

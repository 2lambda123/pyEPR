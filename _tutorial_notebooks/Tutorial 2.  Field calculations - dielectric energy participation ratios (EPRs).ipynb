{
 "cells": [
  {
   "cell_type": "code",
   "execution_count": 1,
   "metadata": {},
   "outputs": [],
   "source": [
    "%load_ext autoreload\n",
    "%autoreload 2\n",
    "%config IPCompleter.greedy = True"
   ]
  },
  {
   "cell_type": "markdown",
   "metadata": {},
   "source": [
    "# pyEPR Calculating Dielectric Participations"
   ]
  },
  {
   "cell_type": "markdown",
   "metadata": {},
   "source": [
    "Zlatko Minev\n",
    "\n",
    "**Summary:** Following Appendix E of the energy-participation-ratio (EPR) paper, here we demonstrate how to calcualte the dielectric EPR of a chip substrate in a qubit eigen mode. \n",
    "\n",
    "We use the following definitions for the RMS energy stored in a volume $V$,\n",
    "\\begin{align}\n",
    "\\mathcal{E}_{\\mathrm{elec}}&=&\\frac{1}{4}\\mathrm{Re}\\int_{V}\\mathrm{d}v\\vec{E}_{\\text{max}}^{*}\\overleftrightarrow{\\epsilon}\\vec{E}_{\\text{max}}\\;,\\\\\\mathcal{E}_{\\mathrm{mag}}&=&\\frac{1}{4}\\mathrm{Re}\\int_{V}\\mathrm{d}v\\vec{H}_{\\text{max}}^{*}\\overleftrightarrow{\\mu}\\vec{H}_{\\text{max}}\\;,\n",
    "\\end{align}"
   ]
  },
  {
   "cell_type": "markdown",
   "metadata": {},
   "source": [
    "## The simple way  "
   ]
  },
  {
   "cell_type": "markdown",
   "metadata": {},
   "source": [
    "Following the first tutorial, let's loads the `pyEPR` package under the shorthand name `epr`."
   ]
  },
  {
   "cell_type": "code",
   "execution_count": 2,
   "metadata": {},
   "outputs": [],
   "source": [
    "import pyEPR as epr"
   ]
  },
  {
   "cell_type": "markdown",
   "metadata": {},
   "source": [
    "#### Load Ansys HFSS tutorial file  "
   ]
  },
  {
   "cell_type": "markdown",
   "metadata": {},
   "source": [
    "As we did in the previous tutorial, let us first determine where the example file is stored.\n",
    "For tutorial, let us get the path to the tutorial folder."
   ]
  },
  {
   "cell_type": "code",
   "execution_count": 4,
   "metadata": {},
   "outputs": [
    {
     "name": "stdout",
     "output_type": "stream",
     "text": [
      "We will the example project located in\n",
      " C:\\zkm-code\\pyEPR\\_example_files\n"
     ]
    }
   ],
   "source": [
    "# Load Path temporarily just to find where the tutorial folder is\n",
    "# return path_to_project\n",
    "from pathlib import Path\n",
    "path_to_project = Path(epr.__file__).parent.parent / '_example_files'\n",
    "print(f'We will the example project located in\\n {path_to_project}')"
   ]
  },
  {
   "cell_type": "markdown",
   "metadata": {},
   "source": [
    "Now, we will open Ansys Desktop and connect to a specific project and we will create the analsys eprh"
   ]
  },
  {
   "cell_type": "code",
   "execution_count": 5,
   "metadata": {},
   "outputs": [
    {
     "name": "stderr",
     "output_type": "stream",
     "text": [
      "INFO 12:40AM [connect]: Connecting to Ansys Desktop API...\n",
      "INFO 12:40AM [load_ansys_project]: \tFile path to HFSS project found.\n",
      "INFO 12:40AM [load_ansys_project]: \tOpened Ansys App\n",
      "INFO 12:40AM [load_ansys_project]: \tOpened Ansys Desktop v2016.0.0\n",
      "INFO 12:40AM [load_ansys_project]: \tOpened Ansys Project\n",
      "\tFolder:    C:/zkm-code/pyEPR/_example_files/\n",
      "\tProject:   pyEPR_tutorial1\n",
      "INFO 12:40AM [connect]: \tOpened active design\n",
      "\tDesign:    1. single_transmon [Solution type: Eigenmode]\n",
      "INFO 12:40AM [get_setup]: \tOpened setup `Setup1`  (<class 'pyEPR.ansys.HfssEMSetup'>)\n",
      "INFO 12:40AM [connect]: \tConnection to Ansys established successfully. 😀 \n",
      "\n"
     ]
    },
    {
     "name": "stdout",
     "output_type": "stream",
     "text": [
      "Design \"1. single_transmon\" info:\n",
      "\t# eigenmodes    2\n",
      "\t# variations    2\n"
     ]
    }
   ],
   "source": [
    "pinfo = epr.Project_Info(project_path = path_to_project, \n",
    "                         project_name = 'pyEPR_tutorial1',\n",
    "                         design_name  = '1. single_transmon')\n",
    "eprh = epr.pyEPR_HFSSAnalysis(pinfo)"
   ]
  },
  {
   "cell_type": "markdown",
   "metadata": {},
   "source": [
    "# Calculate participation of the substrate for mode 1 "
   ]
  },
  {
   "cell_type": "markdown",
   "metadata": {},
   "source": [
    "First, select which eigenmode to work on.<br>\n",
    "Here the fundamental mode, mode 0, is the qubit"
   ]
  },
  {
   "cell_type": "code",
   "execution_count": 27,
   "metadata": {},
   "outputs": [
    {
     "name": "stdout",
     "output_type": "stream",
     "text": [
      "Energy in silicon substrate  = 91.8%\n"
     ]
    }
   ],
   "source": [
    "eprh.set_mode(0) \n",
    "\n",
    "# Calculate the EPR p_dielectic\n",
    "p_dielectic, (ℰ_substr, ℰ_total) = \\\n",
    "    eprh.calc_p_electric_volume('substrate_si', 'AllObjects')\n",
    "\n",
    "print(f'Energy in silicon substrate  = {100*p_dielectic:.1f}%')"
   ]
  },
  {
   "cell_type": "markdown",
   "metadata": {},
   "source": [
    "Now, compute the electric energy stored in the vacuum \n",
    "Use the calculated total energy in all objects\n",
    "so that we don't have to recompute it, since we \n",
    "computed it  above"
   ]
  },
  {
   "cell_type": "code",
   "execution_count": 26,
   "metadata": {},
   "outputs": [
    {
     "name": "stdout",
     "output_type": "stream",
     "text": [
      "Energy in vacuum = 8.2%\n",
      "\n",
      "Since there are no other volumes,\n",
      "the two energies should sum to one: 0.9999999999999954\n"
     ]
    }
   ],
   "source": [
    "p_vac, (ℰ_vac, ℰ_total) = eprh.calc_p_electric_volume(\n",
    "    'Region', E_total=ℰ_total) # Here, pass the precomputed E_total=ℰ_total\n",
    "\n",
    "print(f'''Energy in vacuum = {100*p_vac:.1f}%\n",
    "\n",
    "Since there are no other volumes,\n",
    "the two energies should sum to one: {p_dielectic + p_vac}''')"
   ]
  },
  {
   "cell_type": "code",
   "execution_count": 7,
   "metadata": {},
   "outputs": [
    {
     "data": {
      "text/plain": [
       "\u001b[1;31mSignature:\u001b[0m\n",
       " \u001b[0mepr_hfss\u001b[0m\u001b[1;33m.\u001b[0m\u001b[0mcalc_p_electric_volume\u001b[0m\u001b[1;33m(\u001b[0m\u001b[1;33m\n",
       "\u001b[0m    \u001b[1;33m[\u001b[0m\u001b[1;34m'name_dielectric3D'\u001b[0m\u001b[1;33m,\u001b[0m \u001b[1;34m\"relative_to='AllObjects'\"\u001b[0m\u001b[1;33m,\u001b[0m \u001b[1;34m'E_total=None'\u001b[0m\u001b[1;33m]\u001b[0m\u001b[1;33m,\u001b[0m\u001b[1;33m\n",
       "\u001b[0m\u001b[1;33m)\u001b[0m\u001b[1;33m\u001b[0m\u001b[1;33m\u001b[0m\u001b[0m\n",
       "\u001b[1;31mDocstring:\u001b[0m\n",
       "Calculate the dielectric energy-participatio ratio \n",
       "of a 3D object (one that has volume) relative to the dielectric energy of\n",
       "a list of object objects.\n",
       "\n",
       "This is as a function relative to another object or all objects.\n",
       "\n",
       "When all objects are specified, this does not include any energy \n",
       "that might be stored in any lumped elements or lumped capacitors. \n",
       "\n",
       "Returns:\n",
       "---------\n",
       "    ℰ_object/ℰ_total, (ℰ_object, _total)\n",
       "\u001b[1;31mFile:\u001b[0m      c:\\zkm-code\\pyepr\\pyepr\\core.py\n",
       "\u001b[1;31mType:\u001b[0m      method\n"
      ]
     },
     "metadata": {},
     "output_type": "display_data"
    }
   ],
   "source": [
    "? eprh.calc_p_electric_volume"
   ]
  },
  {
   "cell_type": "markdown",
   "metadata": {},
   "source": [
    "## Calculating the energies directly\n",
    "\n",
    "Using lower level functions "
   ]
  },
  {
   "cell_type": "code",
   "execution_count": 29,
   "metadata": {},
   "outputs": [
    {
     "name": "stdout",
     "output_type": "stream",
     "text": [
      "Energy in substrate = 91.8%\n"
     ]
    }
   ],
   "source": [
    "ℰ_total  = eprh.calc_energy_electric(volume='AllObjects')\n",
    "ℰ_substr = eprh.calc_energy_electric(volume='Box1')\n",
    "print(f'Energy in substrate = {100*ℰ_substr/ℰ_total:.1f}%')"
   ]
  },
  {
   "cell_type": "code",
   "execution_count": 30,
   "metadata": {},
   "outputs": [
    {
     "data": {
      "text/plain": [
       "\u001b[1;31mSignature:\u001b[0m\n",
       "\u001b[0mepr_hfss\u001b[0m\u001b[1;33m.\u001b[0m\u001b[0mcalc_energy_electric\u001b[0m\u001b[1;33m(\u001b[0m\u001b[1;33m\n",
       "\u001b[0m    \u001b[1;33m[\u001b[0m\u001b[1;34m'variation=None'\u001b[0m\u001b[1;33m,\u001b[0m \u001b[1;34m\"volume='AllObjects'\"\u001b[0m\u001b[1;33m,\u001b[0m \u001b[1;34m'smooth=False'\u001b[0m\u001b[1;33m]\u001b[0m\u001b[1;33m,\u001b[0m\u001b[1;33m\n",
       "\u001b[0m\u001b[1;33m)\u001b[0m\u001b[1;33m\u001b[0m\u001b[1;33m\u001b[0m\u001b[0m\n",
       "\u001b[1;31mDocstring:\u001b[0m\n",
       "Calculates two times the peak electric energy, or 4 times the RMS, :math:`4*\\mathcal{E}_{\\mathrm{elec}}`\n",
       "(since we do not divide by 2 and use the peak phasors).\n",
       "\n",
       ".. math::\n",
       "    \\mathcal{E}_{\\mathrm{elec}}=\\frac{1}{4}\\mathrm{Re}\\int_{V}\\mathrm{d}v\\vec{E}_{\\text{max}}^{*}\\overleftrightarrow{\\epsilon}\\vec{E}_{\\text{max}}\n",
       "\n",
       "\n",
       "volume : string | 'AllObjects'\n",
       "smooth : bool | False \n",
       "    Smooth the electric field or not when performing calculation\n",
       "\n",
       "Example use to calcualte the energy participation of a substrate\n",
       "\n",
       ".. code-block python\n",
       "    ℰ_total  = epr_hfss.calc_energy_electric(volume='AllObjects')\n",
       "    ℰ_substr = epr_hfss.calc_energy_electric(volume='Box1')\n",
       "    print(f'Energy in substrate = {100*ℰ_substr/ℰ_total:.1f}%')\n",
       "\u001b[1;31mFile:\u001b[0m      c:\\zkm-code\\pyepr\\pyepr\\core.py\n",
       "\u001b[1;31mType:\u001b[0m      method\n"
      ]
     },
     "metadata": {},
     "output_type": "display_data"
    }
   ],
   "source": [
    "?eprh.calc_energy_electric"
   ]
  },
  {
   "cell_type": "markdown",
   "metadata": {},
   "source": [
    "# Using the Fields calculator in HFSS directly "
   ]
  },
  {
   "cell_type": "markdown",
   "metadata": {},
   "source": [
    "We will do the same calculation again, but now using the internals of `eprh.calc_energy_electric` to demonstrate how the fields calcualtor object can be used for custom integrals and how the internals work. \n",
    "\n",
    "#### Using the HFSS Fields Calculator\n",
    "The Fields calculator enables you to perform computations using basic field quantities. The calcu­lator will compute derived quantities from the general electric field solution; write field quantities to files, locate maximum and minimum field values, and perform other operations on the field solu­tion. \n",
    "\n",
    "The calculator does not perform the computations until a value is needed or is forced for a result. This makes it more efficient, saving computing resources and time; you can do all the calculations without regard to data storage of all the calculated points of the field. It is generally easier to do all the calculations first, then plot the results.\n",
    "\n",
    "#### Direct calculation of \n",
    "\n",
    "\\begin{align}\n",
    "\\mathcal{E}_{\\mathrm{elec}}&=&\\mathrm{Re}\\int_{V}\\mathrm{d}v\\vec{E}_{\\text{max}}^{*}\\overleftrightarrow{\\epsilon}\\vec{E}_{\\text{max}}\\;.\n",
    "\\end{align}\n",
    "\n"
   ]
  },
  {
   "cell_type": "code",
   "execution_count": 35,
   "metadata": {},
   "outputs": [
    {
     "data": {
      "text/plain": [
       "3.97856215141521"
      ]
     },
     "execution_count": 35,
     "metadata": {},
     "output_type": "execute_result"
    }
   ],
   "source": [
    "from pyEPR.core import *\n",
    "\n",
    "self, volume = eprh, 'AllObjects'\n",
    "\n",
    "calcobject = CalcObject([], self.setup)\n",
    "vecE = calcobject.getQty(\"E\").smooth()\n",
    "A = vecE.times_eps()\n",
    "B = vecE.conj()\n",
    "A = A.dot(B)\n",
    "A = A.real()\n",
    "A = A.integrate_vol(name=volume)\n",
    "\n",
    "E_total = A.evaluate(lv=self.get_lv()) \n",
    "# This command numerically evaluates and displays the\n",
    "# results of calculator operations \n",
    "E_total"
   ]
  },
  {
   "cell_type": "code",
   "execution_count": 34,
   "metadata": {},
   "outputs": [
    {
     "data": {
      "text/plain": [
       "3.65565683193854"
      ]
     },
     "execution_count": 34,
     "metadata": {},
     "output_type": "execute_result"
    }
   ],
   "source": [
    "from pyEPR.core import *\n",
    "\n",
    "self, volume = eprh, 'substrate_si'\n",
    "\n",
    "calcobject = CalcObject([], self.setup)\n",
    "vecE = calcobject.getQty(\"E\").smooth()\n",
    "A = vecE.times_eps()\n",
    "B = vecE.conj()\n",
    "A = A.dot(B)\n",
    "A = A.real()\n",
    "A = A.integrate_vol(name=volume)\n",
    "\n",
    "E_subs = A.evaluate(lv=self.get_lv()) \n",
    "# This command numerically evaluates and displays the\n",
    "# results of calculator operations \n",
    "E_subs"
   ]
  },
  {
   "cell_type": "code",
   "execution_count": 38,
   "metadata": {},
   "outputs": [
    {
     "name": "stdout",
     "output_type": "stream",
     "text": [
      "Energy in substrate: 91.9%\n"
     ]
    }
   ],
   "source": [
    "print(f'Energy in substrate: {100*E_subs/E_total:.1f}%')"
   ]
  },
  {
   "cell_type": "markdown",
   "metadata": {},
   "source": [
    "# Summary  "
   ]
  },
  {
   "cell_type": "markdown",
   "metadata": {},
   "source": [
    "We showed three levels of how to obtain the same result, using either the \n",
    "1. `pyeprh.calc_p_electric_volume`\n",
    "2. `pyeprh.calc_energy_electric`\n",
    "3. Or the fields calcualtor"
   ]
  }
 ],
 "metadata": {
  "kernelspec": {
   "display_name": "Python 3",
   "language": "python",
   "name": "python3"
  },
  "language_info": {
   "codemirror_mode": {
    "name": "ipython",
    "version": 3
   },
   "file_extension": ".py",
   "mimetype": "text/x-python",
   "name": "python",
   "nbconvert_exporter": "python",
   "pygments_lexer": "ipython3",
   "version": "3.7.3"
  }
 },
 "nbformat": 4,
 "nbformat_minor": 4
}
